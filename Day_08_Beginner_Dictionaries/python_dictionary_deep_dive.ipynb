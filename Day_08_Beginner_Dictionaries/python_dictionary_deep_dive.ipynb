{
 "cells": [
  {
   "cell_type": "code",
   "execution_count": 29,
   "metadata": {},
   "outputs": [
    {
     "name": "stdout",
     "output_type": "stream",
     "text": [
      "A piece of code that you can easily caal over\n"
     ]
    }
   ],
   "source": [
    "#Dicionario com valores \n",
    "programing_dictionary = {\n",
    "    \"Bug\" : \"An eeor in a program that prevents the program from running as..\",\n",
    "    \"Function\" : \"A piece of code that you can easily caal over\"\n",
    "}\n",
    "#Printando a chave Function\n",
    "print(programing_dictionary[\"Function\"])\n"
   ]
  },
  {
   "cell_type": "code",
   "execution_count": 30,
   "metadata": {},
   "outputs": [
    {
     "name": "stdout",
     "output_type": "stream",
     "text": [
      "{'Bug': 'An eeor in a program that prevents the program from running as..', 'Function': 'A piece of code that you can easily caal over', 'Loop': 'The action of doing something over and over again.'}\n"
     ]
    }
   ],
   "source": [
    "#Adicionando outras chaves ao dicionario \n",
    "programing_dictionary[\"Loop\"] = \"The action of doing something over and over again.\"\n",
    "print(programing_dictionary)"
   ]
  },
  {
   "cell_type": "code",
   "execution_count": 31,
   "metadata": {},
   "outputs": [],
   "source": [
    "#Criando um dicionario vazio\n",
    "empty_dictionary = {}"
   ]
  },
  {
   "cell_type": "code",
   "execution_count": 32,
   "metadata": {},
   "outputs": [],
   "source": [
    "#Apagar um dicionário existente\n",
    "#programing_dictionary = {}\n",
    "#print(programing_dictionary)\n"
   ]
  },
  {
   "cell_type": "code",
   "execution_count": 33,
   "metadata": {},
   "outputs": [
    {
     "name": "stdout",
     "output_type": "stream",
     "text": [
      "{'Bug': 'editando o item', 'Function': 'A piece of code that you can easily caal over', 'Loop': 'The action of doing something over and over again.'}\n"
     ]
    }
   ],
   "source": [
    "# editando um item no dicionario \n",
    "programing_dictionary[\"Bug\"] = \"editando o item\"\n",
    "print(programing_dictionary)"
   ]
  },
  {
   "cell_type": "code",
   "execution_count": 36,
   "metadata": {},
   "outputs": [
    {
     "name": "stdout",
     "output_type": "stream",
     "text": [
      "Bug\n",
      "editando o item\n",
      "Function\n",
      "A piece of code that you can easily caal over\n",
      "Loop\n",
      "The action of doing something over and over again.\n"
     ]
    }
   ],
   "source": [
    "#Loop atraves do dicionario \n",
    "for key in programing_dictionary:\n",
    "    print(key)\n",
    "    print(programing_dictionary[key])"
   ]
  }
 ],
 "metadata": {
  "kernelspec": {
   "display_name": "base",
   "language": "python",
   "name": "python3"
  },
  "language_info": {
   "codemirror_mode": {
    "name": "ipython",
    "version": 3
   },
   "file_extension": ".py",
   "mimetype": "text/x-python",
   "name": "python",
   "nbconvert_exporter": "python",
   "pygments_lexer": "ipython3",
   "version": "3.11.7"
  }
 },
 "nbformat": 4,
 "nbformat_minor": 2
}
