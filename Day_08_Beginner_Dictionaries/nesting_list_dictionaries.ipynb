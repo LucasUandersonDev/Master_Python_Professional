{
 "cells": [
  {
   "cell_type": "code",
   "execution_count": 11,
   "metadata": {},
   "outputs": [],
   "source": [
    "#Dicionario Simples\n",
    "capitals = {\n",
    "    \"France\":\"Paris\",\n",
    "    \"Germany\":\"Berlin\"\n",
    "}"
   ]
  },
  {
   "cell_type": "code",
   "execution_count": 12,
   "metadata": {},
   "outputs": [],
   "source": [
    "#Aninhando lista em um dicionario \n",
    "travel_log = {\n",
    "    \"France\":[\"Paris\",\"Lille\",\"Dijon\"],\n",
    "    \"Germany\":[\"Stuttgart\",\"Berlin\"],\n",
    "}\n"
   ]
  },
  {
   "cell_type": "code",
   "execution_count": 13,
   "metadata": {},
   "outputs": [
    {
     "name": "stdout",
     "output_type": "stream",
     "text": [
      "Lille\n"
     ]
    }
   ],
   "source": [
    "#Imprimir um item da lista do dicionario travel_log objetivo e imprimir o Lille\n",
    "print(travel_log[\"France\"][1])"
   ]
  },
  {
   "cell_type": "code",
   "execution_count": 14,
   "metadata": {},
   "outputs": [],
   "source": [
    "nested_list = [\"A\",\"B\",[\"C\",\"D\"]]"
   ]
  },
  {
   "cell_type": "code",
   "execution_count": 23,
   "metadata": {},
   "outputs": [
    {
     "name": "stdout",
     "output_type": "stream",
     "text": [
      "['C', 'D']\n",
      "D\n"
     ]
    }
   ],
   "source": [
    "#Acessando esta primeira lista [\"C\",\"D\"]\n",
    "print(nested_list[2])\n",
    "#Obtendo o item da segunda lista\n",
    "print(nested_list[2][1])"
   ]
  },
  {
   "cell_type": "code",
   "execution_count": 24,
   "metadata": {},
   "outputs": [],
   "source": [
    "#Dicionario aninhando em outro dicionario e uma lista\n",
    "travel_log2 = {\n",
    "    \"France\":{\n",
    "        \"num_times_visited\": 8,\n",
    "        \"cities_visited\": [\"Paris\", \"Lille\",\"Dijon\"]\n",
    "    },\n",
    "    \"Germany\":[\"Stuttgart\",\"Berlin\"],\n",
    "}"
   ]
  },
  {
   "cell_type": "code",
   "execution_count": 31,
   "metadata": {},
   "outputs": [
    {
     "name": "stdout",
     "output_type": "stream",
     "text": [
      "Hamburg\n"
     ]
    }
   ],
   "source": [
    "#Dicionario aninhando em outro dicionario e uma lista\n",
    "travel_log3 = {\n",
    "    \"France\":{\n",
    "        \"cities_visited\": [\"Paris\", \"Lille\",\"Dijon\"],\n",
    "        \"total_vists\": 12\n",
    "    },\n",
    "    \"Germany\":{\n",
    "        \"cities_visited\":[\"Berlin\",\"Hamburg\",\"Stuttgart\"],\n",
    "        \"total_visits\": 5 \n",
    "    }\n",
    "}\n",
    "\n",
    "print(travel_log3[\"Germany\"][\"cities_visited\"][1])"
   ]
  },
  {
   "cell_type": "code",
   "execution_count": null,
   "metadata": {},
   "outputs": [],
   "source": []
  }
 ],
 "metadata": {
  "kernelspec": {
   "display_name": "base",
   "language": "python",
   "name": "python3"
  },
  "language_info": {
   "codemirror_mode": {
    "name": "ipython",
    "version": 3
   },
   "file_extension": ".py",
   "mimetype": "text/x-python",
   "name": "python",
   "nbconvert_exporter": "python",
   "pygments_lexer": "ipython3",
   "version": "3.11.7"
  }
 },
 "nbformat": 4,
 "nbformat_minor": 2
}
